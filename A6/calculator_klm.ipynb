{
 "metadata": {
  "name": ""
 },
 "nbformat": 3,
 "nbformat_minor": 0,
 "worksheets": [
  {
   "cells": [
    {
     "cell_type": "heading",
     "level": 1,
     "metadata": {},
     "source": [
      "Determination of typical KLM operators"
     ]
    },
    {
     "cell_type": "raw",
     "metadata": {},
     "source": [
      "To determine the klm operators following tasks were executed: \n",
      "\n",
      "task1 - measure keystroke time (K): twenty strokes of \"1\" key on notebook\n",
      "User strokes \"1\" key on notebook as fast as possible\n",
      "The time differeneces between the strokes were used to calculate the means of K\n",
      "\n",
      "task2 - measure buttonclick time (B): twenty clicks of \"1\" button in the RPN calculator\n",
      "Mouse was pointed to \"1\" Button for the start. Button was clicked as fast as possible\n",
      "The time differeneces between the clicks were used to calculate the means of B\n",
      "\n",
      "task3 - measure pointing time (P): click \"1\" and \"+\" button in RPN calculator ten times in turn\n",
      "Mouse was pointed to \"1\" Button for the start. Switching between the buttons was executed as fast as possible\n",
      "The time differeneces between the clicks were used to calculate the means of P\n",
      "\n",
      "task4 - measure hand from keyboard to mouse or vice versa time (H): press number \"1\" on button and \"1\" key on notebook ten times in turn\n",
      "The time differeneces between the events were used to calculate the means of H\n",
      "Mouse was pointed to \"1\" Button for the start. Switching between mouse and key was executed with one hand and as fast as possible.\n",
      "\n",
      "The data were logged to csv files and stdout for the different tasks. Each task with an own filename. The files have been shortened to twenty rows for analysing just an excerpt of the data.\n",
      "Notebook and mouse were always the same. The size of the RPN Calculator was default."
     ]
    },
    {
     "cell_type": "code",
     "collapsed": false,
     "input": [
      "from pylab import*\n",
      "from scipy.stats import ttest_ind, ttest_rel, ttest_1samp\n",
      "from datetime import datetime\n",
      "from datetime import timedelta\n",
      "import time\n",
      "import numpy as np\n",
      "import matplotlib.pyplot as plt"
     ],
     "language": "python",
     "metadata": {},
     "outputs": [],
     "prompt_number": 19
    },
    {
     "cell_type": "code",
     "collapsed": false,
     "input": [
      "%matplotlib inline\n",
      "rcParams['figure.figsize'] = (16,9)"
     ],
     "language": "python",
     "metadata": {},
     "outputs": [],
     "prompt_number": 20
    },
    {
     "cell_type": "heading",
     "level": 2,
     "metadata": {},
     "source": [
      "Getting raw data out of the first task's .csv file (keystroke K) "
     ]
    },
    {
     "cell_type": "code",
     "collapsed": false,
     "input": [
      "firstTaskData = []\n",
      "\n",
      "# get all task csv data\n",
      "\n",
      "f_1 = \"keystroketime(K).csv\"\n",
      "\n",
      "firstTaskData.append(genfromtxt(f_1, dtype=None, delimiter=\",\", names=True, invalid_raise=False))\n",
      "# convert into numpy array    \n",
      "data = np.array(firstTaskData)\n",
      "\n",
      "timestampStrings = []\n",
      "timestamps = []\n",
      "events = []\n",
      "operators = []\n",
      "timeDeltaArray = []\n",
      "\n",
      "timestampStrings.append(data['timestamp'])\n",
      "events.append(data['eventtext'])\n",
      "operators.append(data['operator'])\n",
      "\n",
      "numberOfRows = len(events[0][0])\n",
      "\n",
      "for i in range(numberOfRows):\n",
      "    timestamps.append(datetime.strptime(timestampStrings[0][0][i], \"%Y-%m-%d %H:%M:%S.%f\"))\n",
      "\n",
      "for i in range(numberOfRows - 1):\n",
      "    timeDelta = timestamps[i + 1] - timestamps[i]\n",
      "    timeDeltaArray.append(timeDelta)"
     ],
     "language": "python",
     "metadata": {},
     "outputs": [],
     "prompt_number": 21
    },
    {
     "cell_type": "heading",
     "level": 2,
     "metadata": {},
     "source": [
      "Getting raw data out of the second task's .csv file (button click B)"
     ]
    },
    {
     "cell_type": "code",
     "collapsed": false,
     "input": [
      "secondTaskData = []\n",
      "\n",
      "# get all task csv data\n",
      "\n",
      "f_2 = \"buttonclicktime(B).csv\"\n",
      "\n",
      "secondTaskData.append(genfromtxt(f_2, dtype=None, delimiter=\",\", names=True, invalid_raise=False))\n",
      "# convert into numpy array    \n",
      "data_2 = np.array(secondTaskData)\n",
      "\n",
      "timestampStrings_2 = []\n",
      "timestamps_2 = []\n",
      "events_2 = []\n",
      "operators_2 = []\n",
      "timeDeltaArray_2 = []\n",
      "\n",
      "timestampStrings_2.append(data_2['timestamp'])\n",
      "events_2.append(data_2['eventtext'])\n",
      "operators_2.append(data_2['operator'])\n",
      "\n",
      "for i in range(numberOfRows):\n",
      "    timestamps_2.append(datetime.strptime(timestampStrings_2[0][0][i], \"%Y-%m-%d %H:%M:%S.%f\"))\n",
      "\n",
      "for i in range(numberOfRows - 1):\n",
      "    timeDelta_2 = timestamps_2[i + 1] - timestamps_2[i]\n",
      "    timeDeltaArray_2.append(timeDelta_2)"
     ],
     "language": "python",
     "metadata": {},
     "outputs": [],
     "prompt_number": 22
    },
    {
     "cell_type": "heading",
     "level": 2,
     "metadata": {},
     "source": [
      "Getting raw data out of the third task's .csv file (pointing time P)"
     ]
    },
    {
     "cell_type": "code",
     "collapsed": false,
     "input": [
      "thirdTaskData = []\n",
      "\n",
      "# get all task csv data\n",
      "\n",
      "f_3 = \"pointingtime(P).csv\"\n",
      "\n",
      "thirdTaskData.append(genfromtxt(f_3, dtype=None, delimiter=\",\", names=True, invalid_raise=False))\n",
      "# convert into numpy array    \n",
      "data_3 = np.array(thirdTaskData)\n",
      "\n",
      "timestampStrings_3 = []\n",
      "timestamps_3 = []\n",
      "events_3 = []\n",
      "operators_3 = []\n",
      "timeDeltaArray_3 = []\n",
      "\n",
      "timestampStrings_3.append(data_3['timestamp'])\n",
      "events_3.append(data_3['eventtext'])\n",
      "operators_3.append(data_3['operator'])\n",
      "\n",
      "for i in range(numberOfRows):\n",
      "    timestamps_3.append(datetime.strptime(timestampStrings_3[0][0][i], \"%Y-%m-%d %H:%M:%S.%f\"))\n",
      "\n",
      "for i in range(numberOfRows - 1):\n",
      "    timeDelta_3 = timestamps_3[i + 1] - timestamps_3[i]\n",
      "    timeDeltaArray_3.append(timeDelta_3)"
     ],
     "language": "python",
     "metadata": {},
     "outputs": [],
     "prompt_number": 23
    },
    {
     "cell_type": "heading",
     "level": 2,
     "metadata": {},
     "source": [
      "Getting raw data out of the fourth task's .csv file (hand switch between keyboard and mouse H)"
     ]
    },
    {
     "cell_type": "code",
     "collapsed": false,
     "input": [
      "fourthTaskData = []\n",
      "\n",
      "# get all task csv data\n",
      "\n",
      "f_4 = \"deviceswitching(H).csv\"\n",
      "\n",
      "fourthTaskData.append(genfromtxt(f_4, dtype=None, delimiter=\",\", names=True, invalid_raise=False))\n",
      "# convert into numpy array    \n",
      "data_4 = np.array(fourthTaskData)\n",
      "\n",
      "timestampStrings_4 = []\n",
      "timestamps_4 = []\n",
      "events_4 = []\n",
      "operators_4 = []\n",
      "timeDeltaArray_4 = []\n",
      "\n",
      "timestampStrings_4.append(data_4['timestamp'])\n",
      "events_4.append(data_4['eventtext'])\n",
      "operators_4.append(data_4['operator'])\n",
      "\n",
      "for i in range(numberOfRows):\n",
      "    timestamps_4.append(datetime.strptime(timestampStrings_4[0][0][i], \"%Y-%m-%d %H:%M:%S.%f\"))\n",
      "\n",
      "for i in range(numberOfRows - 1):\n",
      "    timeDelta_4 = timestamps_4[i + 1] - timestamps_4[i]\n",
      "    timeDeltaArray_4.append(timeDelta_4)"
     ],
     "language": "python",
     "metadata": {},
     "outputs": [],
     "prompt_number": 24
    },
    {
     "cell_type": "heading",
     "level": 2,
     "metadata": {},
     "source": [
      "Calculate KLM Operator Means"
     ]
    },
    {
     "cell_type": "code",
     "collapsed": false,
     "input": [
      "# calculate the means of the calculated times for the operators\n",
      "keyStrokeMean = (sum(timeDeltaArray)/(len(timeDeltaArray))).total_seconds()\n",
      "buttonClickMean = (sum(timeDeltaArray_2)/(len(timeDeltaArray_2))).total_seconds()\n",
      "pointingTimeMean = (sum(timeDeltaArray_3)/(len(timeDeltaArray_3))).total_seconds()\n",
      "switchMean = (sum(timeDeltaArray_4)/(len(timeDeltaArray_4))).total_seconds()\n",
      "\n",
      "print (\"K Operator Mean: %f\" %(keyStrokeMean))\n",
      "print (\"B Operator Mean: %f\" %(buttonClickMean))\n",
      "print (\"P Operator Mean: %f\" %(pointingTimeMean))\n",
      "print (\"H Operator Mean: %f\" %(switchMean))"
     ],
     "language": "python",
     "metadata": {},
     "outputs": [
      {
       "output_type": "stream",
       "stream": "stdout",
       "text": [
        "K Operator Mean: 0.192991\n",
        "B Operator Mean: 0.152912\n",
        "P Operator Mean: 0.928450\n",
        "H Operator Mean: 0.304982\n"
       ]
      }
     ],
     "prompt_number": 25
    },
    {
     "cell_type": "raw",
     "metadata": {},
     "source": []
    }
   ],
   "metadata": {}
  }
 ]
}