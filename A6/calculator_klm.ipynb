{
 "metadata": {
  "name": ""
 },
 "nbformat": 3,
 "nbformat_minor": 0,
 "worksheets": [
  {
   "cells": [
    {
     "cell_type": "heading",
     "level": 1,
     "metadata": {},
     "source": [
      "Determination of typical KLM operators"
     ]
    },
    {
     "cell_type": "raw",
     "metadata": {},
     "source": [
      "To determine typical values for the standard KLM operators (excluding the M operator) we used a RPN calculator and specified different tasks:\n",
      "\n",
      "Task 1:\n",
      "    - measure keystroke time (K): twenty strokes of \"1\" key on notebook 20k\n",
      "Task 2:\n",
      "    - measure buttonclick time  (B): twenty clicks of \"1\" button in the RPN calculator 20b\n",
      "Task 3:\n",
      "    - measure pointing time (P): click \"1\" and \"3\" button in rpn calculator ten times in turn \n",
      "        -> before measured buttonpress time will be subtracted pbpbpbpbpbpbpbpbpbpb\n",
      "Task 4:\n",
      "    - measure hand from keyboard to mouse or vice versa time (H): press number \"1\" on button and key ten times in turn \n",
      "        -> before measured buttonpress and keystroke time will be subtracted bkbkbkbkbkbkbkbkbkbk"
     ]
    },
    {
     "cell_type": "code",
     "collapsed": false,
     "input": [
      "from pylab import*\n",
      "from scipy.stats import ttest_ind, ttest_rel, ttest_1samp\n",
      "import numpy as np\n",
      "import matplotlib.pyplot as plt\n",
      "from datetime import datetime\n",
      "from datetime import timedelta\n",
      "import time"
     ],
     "language": "python",
     "metadata": {},
     "outputs": [],
     "prompt_number": 45
    },
    {
     "cell_type": "code",
     "collapsed": false,
     "input": [
      "%matplotlib inline\n",
      "rcParams['figure.figsize'] = (16,9)"
     ],
     "language": "python",
     "metadata": {},
     "outputs": [],
     "prompt_number": 46
    },
    {
     "cell_type": "heading",
     "level": 2,
     "metadata": {},
     "source": [
      "Getting raw data out of the first task's .csv file (keystroke K) "
     ]
    },
    {
     "cell_type": "code",
     "collapsed": false,
     "input": [
      "firstTaskData = []\n",
      "\n",
      "# get all task csv data\n",
      "\n",
      "f_1 = \"keystroketime(K).csv\"\n",
      "\n",
      "firstTaskData.append(genfromtxt(f_1, dtype=None, delimiter=\",\", names=True, invalid_raise=False))\n",
      "# convert into numpy array    \n",
      "data = np.array(firstTaskData)\n",
      "\n",
      "timestampStrings = []\n",
      "timestamps = []\n",
      "events = []\n",
      "operators = []\n",
      "timeDeltaArray = []\n",
      "\n",
      "timestampStrings.append(data['timestamp'])\n",
      "events.append(data['eventtext'])\n",
      "operators.append(data['operator'])\n",
      "\n",
      "for i in range(20):\n",
      "    timestamps.append(datetime.strptime(timestampStrings[0][0][i], \"%Y-%m-%d %H:%M:%S.%f\"))\n",
      "\n",
      "for i in range(19):\n",
      "    timeDelta = timestamps[i + 1] - timestamps[i]\n",
      "    timeDeltaArray.append(timeDelta)"
     ],
     "language": "python",
     "metadata": {},
     "outputs": [],
     "prompt_number": 47
    },
    {
     "cell_type": "heading",
     "level": 2,
     "metadata": {},
     "source": [
      "Getting raw data out of the second task's .csv file (button click B)"
     ]
    },
    {
     "cell_type": "code",
     "collapsed": false,
     "input": [
      "secondTaskData = []\n",
      "\n",
      "# get all task csv data\n",
      "\n",
      "f_2 = \"buttonclicktime(B).csv\"\n",
      "\n",
      "secondTaskData.append(genfromtxt(f_2, dtype=None, delimiter=\",\", names=True, invalid_raise=False))\n",
      "# convert into numpy array    \n",
      "data_2 = np.array(secondTaskData)\n",
      "\n",
      "timestampStrings_2 = []\n",
      "timestamps_2 = []\n",
      "events_2 = []\n",
      "operators_2 = []\n",
      "timeDeltaArray_2 = []\n",
      "\n",
      "timestampStrings_2.append(data_2['timestamp'])\n",
      "events_2.append(data_2['eventtext'])\n",
      "operators_2.append(data_2['operator'])\n",
      "\n",
      "for i in range(20):\n",
      "    timestamps_2.append(datetime.strptime(timestampStrings_2[0][0][i], \"%Y-%m-%d %H:%M:%S.%f\"))\n",
      "\n",
      "for i in range(19):\n",
      "    timeDelta_2 = timestamps_2[i + 1] - timestamps_2[i]\n",
      "    timeDeltaArray_2.append(timeDelta_2)"
     ],
     "language": "python",
     "metadata": {},
     "outputs": [],
     "prompt_number": 48
    },
    {
     "cell_type": "heading",
     "level": 2,
     "metadata": {},
     "source": [
      "Getting raw data out of the third task's .csv file (pointing time P)"
     ]
    },
    {
     "cell_type": "code",
     "collapsed": false,
     "input": [
      "thirdTaskData = []\n",
      "\n",
      "# get all task csv data\n",
      "\n",
      "f_3 = \"pointingtime(P).csv\"\n",
      "\n",
      "thirdTaskData.append(genfromtxt(f_3, dtype=None, delimiter=\",\", names=True, invalid_raise=False))\n",
      "# convert into numpy array    \n",
      "data_3 = np.array(thirdTaskData)\n",
      "\n",
      "timestampStrings_3 = []\n",
      "timestamps_3 = []\n",
      "events_3 = []\n",
      "operators_3 = []\n",
      "timeDeltaArray_3 = []\n",
      "\n",
      "timestampStrings_3.append(data_3['timestamp'])\n",
      "events_3.append(data_3['eventtext'])\n",
      "operators_3.append(data_3['operator'])\n",
      "\n",
      "for i in range(20):\n",
      "    timestamps_3.append(datetime.strptime(timestampStrings_3[0][0][i], \"%Y-%m-%d %H:%M:%S.%f\"))\n",
      "\n",
      "for i in range(19):\n",
      "    timeDelta_3 = timestamps_3[i + 1] - timestamps_3[i]\n",
      "    timeDeltaArray_3.append(timeDelta_3)"
     ],
     "language": "python",
     "metadata": {},
     "outputs": [],
     "prompt_number": 49
    },
    {
     "cell_type": "heading",
     "level": 2,
     "metadata": {},
     "source": [
      "Getting raw data out of the fourth task's .csv file (hand switch between keyboard and mouse H)"
     ]
    },
    {
     "cell_type": "code",
     "collapsed": false,
     "input": [
      "fourthTaskData = []\n",
      "\n",
      "# get all task csv data\n",
      "\n",
      "f_4 = \"deviceswitching(H).csv\"\n",
      "\n",
      "fourthTaskData.append(genfromtxt(f_4, dtype=None, delimiter=\",\", names=True, invalid_raise=False))\n",
      "# convert into numpy array    \n",
      "data_4 = np.array(fourthTaskData)\n",
      "\n",
      "timestampStrings_4 = []\n",
      "timestamps_4 = []\n",
      "events_4 = []\n",
      "operators_4 = []\n",
      "timeDeltaArray_4 = []\n",
      "\n",
      "timestampStrings_4.append(data_4['timestamp'])\n",
      "events_4.append(data_4['eventtext'])\n",
      "operators_4.append(data_4['operator'])\n",
      "\n",
      "for i in range(20):\n",
      "    timestamps_4.append(datetime.strptime(timestampStrings_4[0][0][i], \"%Y-%m-%d %H:%M:%S.%f\"))\n",
      "\n",
      "for i in range(19):\n",
      "    timeDelta_4 = timestamps_4[i + 1] - timestamps_4[i]\n",
      "    timeDeltaArray_4.append(timeDelta_4)"
     ],
     "language": "python",
     "metadata": {},
     "outputs": [],
     "prompt_number": 50
    },
    {
     "cell_type": "heading",
     "level": 2,
     "metadata": {},
     "source": [
      "Calculate KLM Operator Means"
     ]
    },
    {
     "cell_type": "code",
     "collapsed": false,
     "input": [
      "keyStrokeMean = (sum(timeDeltaArray)/(len(timeDeltaArray))).total_seconds()\n",
      "buttonClickMean = (sum(timeDeltaArray_2)/(len(timeDeltaArray_2))).total_seconds()\n",
      "pointingTimeMean = (sum(timeDeltaArray_3)/(len(timeDeltaArray_3))).total_seconds()\n",
      "switchMean = (sum(timeDeltaArray_4)/(len(timeDeltaArray_4))).total_seconds()\n",
      "\n",
      "print (\"K Operator Mean: %f\" %(keyStrokeMean))\n",
      "print (\"B Operator Mean: %f\" %(buttonClickMean))\n",
      "print (\"P Operator Mean: %f\" %(pointingTimeMean))\n",
      "print (\"H Operator Mean: %f\" %(switchMean))"
     ],
     "language": "python",
     "metadata": {},
     "outputs": [
      {
       "output_type": "stream",
       "stream": "stdout",
       "text": [
        "K Operator Mean: 0.192991\n",
        "B Operator Mean: 0.152912\n",
        "P Operator Mean: 0.928450\n",
        "H Operator Mean: 0.304982\n"
       ]
      }
     ],
     "prompt_number": 51
    },
    {
     "cell_type": "code",
     "collapsed": false,
     "input": [],
     "language": "python",
     "metadata": {},
     "outputs": [],
     "prompt_number": 30
    },
    {
     "cell_type": "code",
     "collapsed": false,
     "input": [],
     "language": "python",
     "metadata": {},
     "outputs": []
    }
   ],
   "metadata": {}
  }
 ]
}