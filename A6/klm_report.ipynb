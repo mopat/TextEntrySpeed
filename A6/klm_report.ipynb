{
 "metadata": {
  "name": ""
 },
 "nbformat": 3,
 "nbformat_minor": 0,
 "worksheets": [
  {
   "cells": [
    {
     "cell_type": "heading",
     "level": 1,
     "metadata": {},
     "source": [
      "Prediction and verification of task completion times"
     ]
    },
    {
     "cell_type": "raw",
     "metadata": {},
     "source": [
      "Test description"
     ]
    },
    {
     "cell_type": "code",
     "collapsed": false,
     "input": [
      "from pylab import*\n",
      "from scipy.stats import ttest_ind, ttest_rel, ttest_1samp\n",
      "from datetime import datetime\n",
      "from datetime import timedelta\n",
      "import time\n",
      "import numpy as np\n",
      "import matplotlib.pyplot as plt"
     ],
     "language": "python",
     "metadata": {},
     "outputs": [],
     "prompt_number": 2
    },
    {
     "cell_type": "code",
     "collapsed": false,
     "input": [
      "%matplotlib inline\n",
      "rcParams['figure.figsize'] = (16,9)"
     ],
     "language": "python",
     "metadata": {},
     "outputs": [],
     "prompt_number": 3
    },
    {
     "cell_type": "heading",
     "level": 2,
     "metadata": {},
     "source": [
      "Adding the numbers from 1 to 20 using only the mouse"
     ]
    },
    {
     "cell_type": "code",
     "collapsed": false,
     "input": [
      "mouse1to20Times = []\n",
      "\n",
      "mouse1to20Times.append(((datetime.strptime(\"2015-05-31 13:09:06.429138\", \"%Y-%m-%d %H:%M:%S.%f\")) - (datetime.strptime(\"2015-05-31 13:08:40.385116\", \"%Y-%m-%d %H:%M:%S.%f\"))).total_seconds())\n",
      "mouse1to20Times.append(((datetime.strptime(\"2015-05-31 13:11:03.253838\", \"%Y-%m-%d %H:%M:%S.%f\")) - (datetime.strptime(\"2015-05-31 13:10:38.234926\", \"%Y-%m-%d %H:%M:%S.%f\"))).total_seconds())\n",
      "mouse1to20Times.append(((datetime.strptime(\"2015-05-31 13:12:22.128906\", \"%Y-%m-%d %H:%M:%S.%f\")) - (datetime.strptime(\"2015-05-31 13:11:56.621264\", \"%Y-%m-%d %H:%M:%S.%f\"))).total_seconds())\n",
      "mouse1to20Times.append(((datetime.strptime(\"2015-05-31 13:13:09.271008\", \"%Y-%m-%d %H:%M:%S.%f\")) - (datetime.strptime(\"2015-05-31 13:12:43.131244\", \"%Y-%m-%d %H:%M:%S.%f\"))).total_seconds())\n",
      "\n",
      "\n",
      "mouse1to20Times.append(((datetime.strptime(\"2015-05-31 15:03:35.964557\", \"%Y-%m-%d %H:%M:%S.%f\")) - (datetime.strptime(\"2015-05-31 15:02:59.636322\", \"%Y-%m-%d %H:%M:%S.%f\"))).total_seconds())\n",
      "mouse1to20Times.append(((datetime.strptime(\"2015-05-31 15:07:36.989383\", \"%Y-%m-%d %H:%M:%S.%f\")) - (datetime.strptime(\"2015-05-31 15:07:04.884262\", \"%Y-%m-%d %H:%M:%S.%f\"))).total_seconds())\n",
      "mouse1to20Times.append(((datetime.strptime(\"2015-05-31 15:04:36.388218\", \"%Y-%m-%d %H:%M:%S.%f\")) - (datetime.strptime(\"2015-05-31 15:04:01.576395\", \"%Y-%m-%d %H:%M:%S.%f\"))).total_seconds())\n",
      "mouse1to20Times.append(((datetime.strptime(\"2015-05-31 15:05:34.838148\", \"%Y-%m-%d %H:%M:%S.%f\")) - (datetime.strptime(\"2015-05-31 15:05:00.914061\", \"%Y-%m-%d %H:%M:%S.%f\"))).total_seconds())\n",
      "\n",
      "print mouse1to20Times\n",
      "\n",
      "mouse1to20Times_Mean = (sum(mouse1to20Times)/(len(mouse1to20Times)))\n",
      "print mouse1to20Times_Mean"
     ],
     "language": "python",
     "metadata": {},
     "outputs": [
      {
       "output_type": "stream",
       "stream": "stdout",
       "text": [
        "[26.044022, 25.018912, 25.507642, 26.139764, 36.328235, 32.105121, 34.811823, 33.924087]\n",
        "29.98495075\n"
       ]
      }
     ],
     "prompt_number": 4
    },
    {
     "cell_type": "heading",
     "level": 2,
     "metadata": {},
     "source": [
      "Adding the numbers from 1 to 20 using only the keyboard"
     ]
    },
    {
     "cell_type": "code",
     "collapsed": false,
     "input": [
      "keys1to20Times = []\n",
      "\n",
      "keys1to20Times.append(((datetime.strptime(\"2015-05-31 13:15:23.164312\", \"%Y-%m-%d %H:%M:%S.%f\")) - (datetime.strptime(\"2015-05-31 13:15:07.639242\", \"%Y-%m-%d %H:%M:%S.%f\"))).total_seconds())\n",
      "keys1to20Times.append(((datetime.strptime(\"2015-05-31 13:16:34.533354\", \"%Y-%m-%d %H:%M:%S.%f\")) - (datetime.strptime(\"2015-05-31 13:16:19.931540\", \"%Y-%m-%d %H:%M:%S.%f\"))).total_seconds())\n",
      "keys1to20Times.append(((datetime.strptime(\"2015-05-31 13:16:59.410417\", \"%Y-%m-%d %H:%M:%S.%f\")) - (datetime.strptime(\"2015-05-31 13:16:45.313399\", \"%Y-%m-%d %H:%M:%S.%f\"))).total_seconds())\n",
      "keys1to20Times.append(((datetime.strptime(\"2015-05-31 13:17:20.732902\", \"%Y-%m-%d %H:%M:%S.%f\")) - (datetime.strptime(\"2015-05-31 13:17:07.972117\", \"%Y-%m-%d %H:%M:%S.%f\"))).total_seconds())\n",
      "\n",
      "\n",
      "keys1to20Times.append(((datetime.strptime(\"2015-05-31 15:09:34.624897\", \"%Y-%m-%d %H:%M:%S.%f\")) - (datetime.strptime(\"2015-05-31 15:09:10.114375\", \"%Y-%m-%d %H:%M:%S.%f\"))).total_seconds())\n",
      "keys1to20Times.append(((datetime.strptime(\"2015-05-31 15:10:18.365774\", \"%Y-%m-%d %H:%M:%S.%f\")) - (datetime.strptime(\"2015-05-31 15:09:59.289500\", \"%Y-%m-%d %H:%M:%S.%f\"))).total_seconds())\n",
      "keys1to20Times.append(((datetime.strptime(\"2015-05-31 15:10:56.698621\", \"%Y-%m-%d %H:%M:%S.%f\")) - (datetime.strptime(\"2015-05-31 15:10:36.479106\", \"%Y-%m-%d %H:%M:%S.%f\"))).total_seconds())\n",
      "keys1to20Times.append(((datetime.strptime(\"2015-05-31 15:11:34.230882\", \"%Y-%m-%d %H:%M:%S.%f\")) - (datetime.strptime(\"2015-05-31 15:11:14.778733\", \"%Y-%m-%d %H:%M:%S.%f\"))).total_seconds())\n",
      "\n",
      "print keys1to20Times\n",
      "\n",
      "keys1to20Times_Mean = (sum(keys1to20Times)/(len(keys1to20Times)))\n",
      "print keys1to20Times_Mean"
     ],
     "language": "python",
     "metadata": {},
     "outputs": [
      {
       "output_type": "stream",
       "stream": "stdout",
       "text": [
        "[15.52507, 14.601814, 14.097018, 12.760785, 24.510522, 19.076274, 20.219515, 19.452149]\n",
        "17.530393375\n"
       ]
      }
     ],
     "prompt_number": 5
    },
    {
     "cell_type": "heading",
     "level": 2,
     "metadata": {},
     "source": [
      "Calculating the result of sqrt(3^2 + 4^2 ) using only the mouse"
     ]
    },
    {
     "cell_type": "code",
     "collapsed": false,
     "input": [
      "sqrtMouse = []\n",
      "\n",
      "sqrtMouse.append(((datetime.strptime(\"2015-05-31 14:04:49.160293\", \"%Y-%m-%d %H:%M:%S.%f\")) - (datetime.strptime(\"2015-05-31 14:04:42.422023\", \"%Y-%m-%d %H:%M:%S.%f\"))).total_seconds())\n",
      "sqrtMouse.append(((datetime.strptime(\"2015-05-31 14:06:16.684589\", \"%Y-%m-%d %H:%M:%S.%f\")) - (datetime.strptime(\"2015-05-31 14:06:10.899588\", \"%Y-%m-%d %H:%M:%S.%f\"))).total_seconds())\n",
      "sqrtMouse.append(((datetime.strptime(\"2015-05-31 14:06:33.710635\", \"%Y-%m-%d %H:%M:%S.%f\")) - (datetime.strptime(\"2015-05-31 14:06:25.853763\", \"%Y-%m-%d %H:%M:%S.%f\"))).total_seconds())\n",
      "sqrtMouse.append(((datetime.strptime(\"2015-05-31 14:06:53.985115\", \"%Y-%m-%d %H:%M:%S.%f\")) - (datetime.strptime(\"2015-05-31 14:06:46.992545\", \"%Y-%m-%d %H:%M:%S.%f\"))).total_seconds())\n",
      "\n",
      "\n",
      "sqrtMouse.append(((datetime.strptime(\"2015-05-31 16:20:14.003364\", \"%Y-%m-%d %H:%M:%S.%f\")) - (datetime.strptime(\"2015-05-31 16:20:06.343098\", \"%Y-%m-%d %H:%M:%S.%f\"))).total_seconds())\n",
      "sqrtMouse.append(((datetime.strptime(\"2015-05-31 16:20:43.150316\", \"%Y-%m-%d %H:%M:%S.%f\")) - (datetime.strptime(\"2015-05-31 16:20:33.509370\", \"%Y-%m-%d %H:%M:%S.%f\"))).total_seconds())\n",
      "sqrtMouse.append(((datetime.strptime(\"2015-05-31 15:20:54.154576\", \"%Y-%m-%d %H:%M:%S.%f\")) - (datetime.strptime(\"2015-05-31 15:20:43.028829\", \"%Y-%m-%d %H:%M:%S.%f\"))).total_seconds())\n",
      "sqrtMouse.append(((datetime.strptime(\"2015-05-31 15:21:20.231979\", \"%Y-%m-%d %H:%M:%S.%f\")) - (datetime.strptime(\"2015-05-31 15:21:10.970491\", \"%Y-%m-%d %H:%M:%S.%f\"))).total_seconds())\n",
      "\n",
      "print sqrtMouse\n",
      "\n",
      "sqrtMouse_Mean = (sum(sqrtMouse)/(len(sqrtMouse)))\n",
      "print sqrtMouse_Mean"
     ],
     "language": "python",
     "metadata": {},
     "outputs": [
      {
       "output_type": "stream",
       "stream": "stdout",
       "text": [
        "[6.73827, 5.785001, 7.856872, 6.99257, 7.660266, 9.640946, 11.125747, 9.261488]\n",
        "8.132645\n"
       ]
      }
     ],
     "prompt_number": 7
    },
    {
     "cell_type": "heading",
     "level": 2,
     "metadata": {},
     "source": [
      "Calculating the result of sqrt(3^2 + 4^2 ) using only the keyboard"
     ]
    },
    {
     "cell_type": "code",
     "collapsed": false,
     "input": [
      "sqrtKey = []\n",
      "\n",
      "sqrtKey.append(((datetime.strptime(\"2015-05-31 14:26:49.211873\", \"%Y-%m-%d %H:%M:%S.%f\")) - (datetime.strptime(\"2015-05-31 14:26:41.393500\", \"%Y-%m-%d %H:%M:%S.%f\"))).total_seconds())\n",
      "sqrtKey.append(((datetime.strptime(\"2015-05-31 14:27:40.435469\", \"%Y-%m-%d %H:%M:%S.%f\")) - (datetime.strptime(\"2015-05-31 14:27:32.187504\", \"%Y-%m-%d %H:%M:%S.%f\"))).total_seconds())\n",
      "sqrtKey.append(((datetime.strptime(\"2015-05-31 14:27:54.398883\", \"%Y-%m-%d %H:%M:%S.%f\")) - (datetime.strptime(\"2015-05-31 14:27:48.970751\", \"%Y-%m-%d %H:%M:%S.%f\"))).total_seconds())\n",
      "sqrtKey.append(((datetime.strptime(\"2015-05-31 14:28:09.179093\", \"%Y-%m-%d %H:%M:%S.%f\")) - (datetime.strptime(\"2015-05-31 14:28:02.826183\", \"%Y-%m-%d %H:%M:%S.%f\"))).total_seconds())\n",
      "\n",
      "\n",
      "sqrtKey.append(((datetime.strptime(\"2015-05-31 15:24:21.871694\", \"%Y-%m-%d %H:%M:%S.%f\")) - (datetime.strptime(\"2015-05-31 15:24:12.427580\", \"%Y-%m-%d %H:%M:%S.%f\"))).total_seconds())\n",
      "sqrtKey.append(((datetime.strptime(\"2015-05-31 15:25:18.517333\", \"%Y-%m-%d %H:%M:%S.%f\")) - (datetime.strptime(\"2015-05-31 15:25:07.973444\", \"%Y-%m-%d %H:%M:%S.%f\"))).total_seconds())\n",
      "sqrtKey.append(((datetime.strptime(\"2015-05-31 15:25:43.916180\", \"%Y-%m-%d %H:%M:%S.%f\")) - (datetime.strptime(\"2015-05-31 15:25:31.334350\", \"%Y-%m-%d %H:%M:%S.%f\"))).total_seconds())\n",
      "sqrtKey.append(((datetime.strptime(\"2015-05-31 15:26:09.662675\", \"%Y-%m-%d %H:%M:%S.%f\")) - (datetime.strptime(\"2015-05-31 15:26:01.000705\", \"%Y-%m-%d %H:%M:%S.%f\"))).total_seconds())\n",
      "\n",
      "print sqrtKey\n",
      "\n",
      "sqrtKey_Mean = (sum(sqrtKey)/(len(sqrtKey)))\n",
      "print sqrtKey_Mean"
     ],
     "language": "python",
     "metadata": {},
     "outputs": [
      {
       "output_type": "stream",
       "stream": "stdout",
       "text": [
        "[7.818373, 8.247965, 5.428132, 6.35291, 9.444114, 10.543889, 12.58183, 8.66197]\n",
        "8.634897875\n"
       ]
      }
     ],
     "prompt_number": 9
    },
    {
     "cell_type": "code",
     "collapsed": false,
     "input": [],
     "language": "python",
     "metadata": {},
     "outputs": []
    }
   ],
   "metadata": {}
  }
 ]
}